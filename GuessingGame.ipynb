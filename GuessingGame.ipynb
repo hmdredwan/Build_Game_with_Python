{
  "nbformat": 4,
  "nbformat_minor": 0,
  "metadata": {
    "colab": {
      "provenance": [],
      "authorship_tag": "ABX9TyPMBxE38CENUZg9m8ZQ/cmn",
      "include_colab_link": true
    },
    "kernelspec": {
      "name": "python3",
      "display_name": "Python 3"
    },
    "language_info": {
      "name": "python"
    }
  },
  "cells": [
    {
      "cell_type": "markdown",
      "metadata": {
        "id": "view-in-github",
        "colab_type": "text"
      },
      "source": [
        "<a href=\"https://colab.research.google.com/github/hmdredwan/Build_Game_with_Python/blob/main/GuessingGame.ipynb\" target=\"_parent\"><img src=\"https://colab.research.google.com/assets/colab-badge.svg\" alt=\"Open In Colab\"/></a>"
      ]
    },
    {
      "cell_type": "code",
      "execution_count": 36,
      "metadata": {
        "colab": {
          "base_uri": "https://localhost:8080/"
        },
        "id": "Y-wzxrK67Eld",
        "outputId": "b20f7975-0b7f-411f-a76f-91456ddc9e1c"
      },
      "outputs": [
        {
          "output_type": "stream",
          "name": "stdout",
          "text": [
            "Hello. What is your name?\n",
            "s\n",
            "Hello, s. Will you Play a game of 'Guessing The Correct Number'? If you want to play then press 1 otherwise press 0 if you want to quit the game.\n",
            "0\n",
            "Bye,Bye!s. Meet you again.\n"
          ]
        }
      ],
      "source": [
        "import random\n",
        "\n",
        "print(\"Hello. What is your name?\")\n",
        "name=input()\n",
        "\n",
        "print(\"Hello, \"+name+\". Will you Play a game of 'Guessing The Correct Number'? If you want to play then press 1 otherwise press 0 if you want to quit the game.\")\n",
        "answer=int(input())\n",
        "\n",
        "guesstaken=0\n",
        "lastnumber=random.randint(1,100)\n",
        "number=random.randint(1,lastnumber)\n",
        "\n",
        "if answer==1 :\n",
        "   print(\"I am thinking about a number between 1 to \"+ str(lastnumber))\n",
        "   for guesstaken in range(10):\n",
        "    print(\"Take a guess \")\n",
        "    guess=int(input())\n",
        "\n",
        "    if guess<number:\n",
        "      print(\"Your Guess is Low\")\n",
        "\n",
        "    if guess>number:\n",
        "      print(\"Your guess is tohigh.\")\n",
        "\n",
        "    if guess==number:\n",
        "      break\n",
        "   if guess==number:\n",
        "    guesstaken= str(guesstaken+1)\n",
        "    if guesstaken==\"1\":\n",
        "      print(\"Good Job!\"+name+\". You guessed the right number at your 1st guess. The number was \" + str(number)+\".\")\n",
        "    elif guesstaken=='2':\n",
        "       print(\"Good Job!\"+name+\". You guessed the right number at your 2nd guess. The number was \" + str(number)+\".\")\n",
        "    elif guesstaken==\"3\":\n",
        "       print(\"Good Job!\"+name+\". You guessed the right number at your 3rd guess. The number was \" + str(number)+\".\")\n",
        "    else:\n",
        "       print(\"Good Job!\" + name + \". You guessed the right number at your \" +guesstaken +\"th guess. The numbwe was\" + str(number)+\".\")\n",
        "\n",
        "   if guess!=number:\n",
        "    number= str(number)\n",
        "    print(\"No. The number I was thinking of was \"+number+\".\")\n",
        "else:\n",
        "  print(\"Bye,Bye!\"+name+\". Meet you again.\")\n"
      ]
    }
  ]
}